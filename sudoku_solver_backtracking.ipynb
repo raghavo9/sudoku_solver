{
 "cells": [
  {
   "cell_type": "markdown",
   "metadata": {},
   "source": [
    "## SUDOKU SOLVER"
   ]
  },
  {
   "cell_type": "code",
   "execution_count": 9,
   "metadata": {},
   "outputs": [
    {
     "name": "stdout",
     "output_type": "stream",
     "text": [
      "3 1 6 5 7 8 4 9 2 \n",
      "5 2 9 1 3 4 7 6 8 \n",
      "4 8 7 6 2 9 5 3 1 \n",
      "2 6 3 4 1 5 9 8 7 \n",
      "9 7 4 8 6 3 1 2 5 \n",
      "8 5 1 7 9 2 6 4 3 \n",
      "1 3 8 9 4 7 2 5 6 \n",
      "6 9 2 3 5 1 8 7 4 \n",
      "7 4 5 2 8 6 3 1 9 \n"
     ]
    }
   ],
   "source": [
    "def print_grid(grid):\n",
    "    for i in range(9):\n",
    "        for j in range(9):\n",
    "            print(grid[i][j],end=\" \")\n",
    "        print()\n",
    "        \n",
    "\n",
    "def is_safe(grid,row,col,num):\n",
    "    return not same_row(grid,row,col,num) and not same_col(grid,row,col,num) and not same_grid(grid,row-row%3,col-col%3,num)\n",
    "\n",
    "\n",
    "\n",
    "def same_row(grid,row,col,num):\n",
    "    for i in range(9):\n",
    "        if grid[row][i]==num:\n",
    "            return True\n",
    "    return False\n",
    "\n",
    "def same_col(grid,row,col,num):\n",
    "    for i in range(9):\n",
    "        if grid[i][col]==num:\n",
    "            return True\n",
    "    return False\n",
    "\n",
    "def same_grid(grid,start_row,start_col,num):\n",
    "    for i in range(3):\n",
    "        for j in range(3):\n",
    "            if grid[start_row+i][start_col+j]==num:\n",
    "                return True\n",
    "    return False\n",
    "\n",
    "def find_empty(grid,l):\n",
    "    for row in range(9):\n",
    "        for col in range(9):\n",
    "            if grid[row][col]==0:\n",
    "                l[0]=row\n",
    "                l[1]=col\n",
    "                return True\n",
    "    return False\n",
    "\n",
    "\n",
    "\n",
    "def solve_it(grid):\n",
    "    \n",
    "    l=[0,0]\n",
    "    \n",
    "    \n",
    "    if (not find_empty(grid,l)):\n",
    "        return True\n",
    "    \n",
    "    row=l[0]\n",
    "    col=l[1]\n",
    "    \n",
    "    for num in range(1,10):\n",
    "        if is_safe(grid,row,col,num):\n",
    "            grid[row][col]=num\n",
    "            if solve_it(grid):\n",
    "                return True\n",
    "                \n",
    "            grid[row][col]=0\n",
    "    return False\n",
    "\n",
    "\n",
    "if __name__==\"__main__\":\n",
    "    \n",
    "    grid=[[0 for i in range(9)]for i in range(9)]\n",
    "    grid=[[3,0,6,5,0,8,4,0,0], \n",
    "          [5,2,0,0,0,0,0,0,0], \n",
    "          [0,8,7,0,0,0,0,3,1], \n",
    "          [0,0,3,0,1,0,0,8,0], \n",
    "          [9,0,0,8,6,3,0,0,5], \n",
    "          [0,5,0,0,9,0,6,0,0], \n",
    "          [1,3,0,0,0,0,2,5,0], \n",
    "          [0,0,0,0,0,0,0,7,4], \n",
    "          [0,0,5,2,0,6,3,0,0]] \n",
    "    \n",
    "    if solve_it(grid):\n",
    "        print_grid(grid)\n",
    "    else:\n",
    "        print(\"no solution\")"
   ]
  },
  {
   "cell_type": "code",
   "execution_count": null,
   "metadata": {},
   "outputs": [],
   "source": []
  },
  {
   "cell_type": "code",
   "execution_count": null,
   "metadata": {},
   "outputs": [],
   "source": []
  }
 ],
 "metadata": {
  "kernelspec": {
   "display_name": "Python 3",
   "language": "python",
   "name": "python3"
  },
  "language_info": {
   "codemirror_mode": {
    "name": "ipython",
    "version": 3
   },
   "file_extension": ".py",
   "mimetype": "text/x-python",
   "name": "python",
   "nbconvert_exporter": "python",
   "pygments_lexer": "ipython3",
   "version": "3.7.2"
  }
 },
 "nbformat": 4,
 "nbformat_minor": 2
}
